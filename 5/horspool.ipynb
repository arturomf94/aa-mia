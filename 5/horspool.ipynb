{
 "cells": [
  {
   "cell_type": "code",
   "execution_count": 71,
   "metadata": {},
   "outputs": [],
   "source": [
    "import glob\n",
    "import os.path"
   ]
  },
  {
   "cell_type": "code",
   "execution_count": 66,
   "metadata": {},
   "outputs": [],
   "source": [
    "def preprocess(pattern):\n",
    "    pattern_len = len(pattern)\n",
    "    T = {i: pattern_len for i in range(256)}\n",
    "    for i, char in enumerate(pattern):\n",
    "        if i != pattern_len - 1:\n",
    "            T[ord(char)] = pattern_len - i - 1\n",
    "    return T"
   ]
  },
  {
   "cell_type": "code",
   "execution_count": 67,
   "metadata": {},
   "outputs": [],
   "source": [
    "def horspool(pattern, text):\n",
    "\n",
    "    text_len = len(text)\n",
    "    pattern_len = len(pattern)\n",
    "    results = []\n",
    " \n",
    "    T = preprocess(pattern)\n",
    "\n",
    "    i = pattern_len - 1\n",
    "    \n",
    "    while i <= text_len - 1:\n",
    "        k = 0 \n",
    "        while k <= pattern_len - 1 and pattern[pattern_len - 1 - k] == text[i - k]:\n",
    "            k = k + 1\n",
    "        if k == pattern_len: \n",
    "            return i - pattern_len + 1\n",
    "        else:\n",
    "            i = i + T[ord(text[i])]\n",
    "    return -1"
   ]
  },
  {
   "cell_type": "code",
   "execution_count": 69,
   "metadata": {},
   "outputs": [
    {
     "data": {
      "text/plain": [
       "46"
      ]
     },
     "execution_count": 69,
     "metadata": {},
     "output_type": "execute_result"
    }
   ],
   "source": [
    "text = 'Esto solamente es un ejemplo del algoritmo de Horspool'\n",
    "pattern = 'Horspool'\n",
    "horspool(pattern, text)"
   ]
  },
  {
   "cell_type": "code",
   "execution_count": 70,
   "metadata": {},
   "outputs": [
    {
     "data": {
      "text/plain": [
       "-1"
      ]
     },
     "execution_count": 70,
     "metadata": {},
     "output_type": "execute_result"
    }
   ],
   "source": [
    "text = 'Esto solamente es un ejemplo del algoritmo de Horspool'\n",
    "pattern = 'Arturo'\n",
    "horspool(pattern, text)"
   ]
  },
  {
   "cell_type": "code",
   "execution_count": null,
   "metadata": {},
   "outputs": [],
   "source": [
    "folder_name = \"./text_examples/\"\n",
    "data_path = os.path.join(folder_name,'*txt')\n",
    "files = glob.glob(data_path)\n",
    "for file in files:\n",
    "    file_name = file.replace(folder_name,'')\n",
    "    with open(file) as f:\n",
    "        data = f.readlines()\n",
    "        data = ''.join(data)"
   ]
  }
 ],
 "metadata": {
  "kernelspec": {
   "display_name": "aa-mia-5",
   "language": "python",
   "name": "aa-mia-5"
  },
  "language_info": {
   "codemirror_mode": {
    "name": "ipython",
    "version": 2
   },
   "file_extension": ".py",
   "mimetype": "text/x-python",
   "name": "python",
   "nbconvert_exporter": "python",
   "pygments_lexer": "ipython2",
   "version": "2.7.13"
  }
 },
 "nbformat": 4,
 "nbformat_minor": 2
}
